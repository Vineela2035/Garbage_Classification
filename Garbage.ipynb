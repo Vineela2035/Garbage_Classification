{
 "cells": [
  {
   "cell_type": "code",
   "execution_count": null,
   "id": "cfd7f9c9",
   "metadata": {},
   "outputs": [
    {
     "name": "stdout",
     "output_type": "stream",
     "text": [
      "Found 2024 images belonging to 6 classes.\n",
      "Found 503 images belonging to 6 classes.\n"
     ]
    }
   ],
   "source": [
    "\n",
    "import numpy as np\n",
    "import tensorflow as tf\n",
    "from tensorflow.keras.preprocessing.image import ImageDataGenerator\n",
    "from tensorflow.keras import layers, models\n",
    "from sklearn.utils import resample\n",
    "from sklearn.model_selection import train_test_split\n",
    "from sklearn.metrics import classification_report\n",
    "from sklearn.svm import SVC\n",
    "from sklearn.neighbors import KNeighborsClassifier\n",
    "\n",
    "# Path to your unzipped dataset\n",
    "dataset_path = r\"C:\\\\Users\\\\MSReddy\\\\OneDrive\\\\Documents\\\\VS code\\\\Garbage_Class_DL_ML\\\\TrashType_Image_Dataset\"\n",
    "img_size = 150\n",
    "batch_size = 32\n",
    "\n",
    "datagen = ImageDataGenerator(\n",
    "    rescale=1./255,\n",
    "    validation_split=0.2,\n",
    "    horizontal_flip=True,\n",
    "    rotation_range=20,\n",
    "    zoom_range=0.2\n",
    ")\n",
    "\n",
    "train_gen = datagen.flow_from_directory(\n",
    "    dataset_path,\n",
    "    target_size=(img_size, img_size),\n",
    "    batch_size=batch_size,\n",
    "    class_mode='categorical',\n",
    "    subset='training',\n",
    "    shuffle=True\n",
    ")\n",
    "\n",
    "val_gen = datagen.flow_from_directory(\n",
    "    dataset_path,\n",
    "    target_size=(img_size, img_size),\n",
    "    batch_size=batch_size,\n",
    "    class_mode='categorical',\n",
    "    subset='validation',\n",
    "    shuffle=True\n",
    ")\n"
   ]
  },
  {
   "cell_type": "code",
   "execution_count": 7,
   "id": "f0efdab8",
   "metadata": {},
   "outputs": [
    {
     "name": "stderr",
     "output_type": "stream",
     "text": [
      "c:\\Users\\MSReddy\\AppData\\Local\\Programs\\Python\\Python312\\Lib\\site-packages\\keras\\src\\layers\\convolutional\\base_conv.py:113: UserWarning: Do not pass an `input_shape`/`input_dim` argument to a layer. When using Sequential models, prefer using an `Input(shape)` object as the first layer in the model instead.\n",
      "  super().__init__(activity_regularizer=activity_regularizer, **kwargs)\n",
      "c:\\Users\\MSReddy\\AppData\\Local\\Programs\\Python\\Python312\\Lib\\site-packages\\keras\\src\\trainers\\data_adapters\\py_dataset_adapter.py:121: UserWarning: Your `PyDataset` class should call `super().__init__(**kwargs)` in its constructor. `**kwargs` can include `workers`, `use_multiprocessing`, `max_queue_size`. Do not pass these arguments to `fit()`, as they will be ignored.\n",
      "  self._warn_if_super_not_called()\n"
     ]
    },
    {
     "name": "stdout",
     "output_type": "stream",
     "text": [
      "Epoch 1/10\n",
      "\u001b[1m64/64\u001b[0m \u001b[32m━━━━━━━━━━━━━━━━━━━━\u001b[0m\u001b[37m\u001b[0m \u001b[1m57s\u001b[0m 849ms/step - accuracy: 0.2632 - loss: 2.1622 - val_accuracy: 0.4652 - val_loss: 1.3449\n",
      "Epoch 2/10\n",
      "\u001b[1m64/64\u001b[0m \u001b[32m━━━━━━━━━━━━━━━━━━━━\u001b[0m\u001b[37m\u001b[0m \u001b[1m53s\u001b[0m 825ms/step - accuracy: 0.4527 - loss: 1.3913 - val_accuracy: 0.5229 - val_loss: 1.2118\n",
      "Epoch 3/10\n",
      "\u001b[1m64/64\u001b[0m \u001b[32m━━━━━━━━━━━━━━━━━━━━\u001b[0m\u001b[37m\u001b[0m \u001b[1m37s\u001b[0m 583ms/step - accuracy: 0.5106 - loss: 1.2506 - val_accuracy: 0.5308 - val_loss: 1.1557\n",
      "Epoch 4/10\n",
      "\u001b[1m64/64\u001b[0m \u001b[32m━━━━━━━━━━━━━━━━━━━━\u001b[0m\u001b[37m\u001b[0m \u001b[1m30s\u001b[0m 463ms/step - accuracy: 0.5584 - loss: 1.1362 - val_accuracy: 0.5865 - val_loss: 1.0793\n",
      "Epoch 5/10\n",
      "\u001b[1m64/64\u001b[0m \u001b[32m━━━━━━━━━━━━━━━━━━━━\u001b[0m\u001b[37m\u001b[0m \u001b[1m30s\u001b[0m 467ms/step - accuracy: 0.6001 - loss: 1.0821 - val_accuracy: 0.5845 - val_loss: 1.0783\n",
      "Epoch 6/10\n",
      "\u001b[1m64/64\u001b[0m \u001b[32m━━━━━━━━━━━━━━━━━━━━\u001b[0m\u001b[37m\u001b[0m \u001b[1m30s\u001b[0m 463ms/step - accuracy: 0.5983 - loss: 1.0657 - val_accuracy: 0.5666 - val_loss: 1.2710\n",
      "Epoch 7/10\n",
      "\u001b[1m64/64\u001b[0m \u001b[32m━━━━━━━━━━━━━━━━━━━━\u001b[0m\u001b[37m\u001b[0m \u001b[1m30s\u001b[0m 470ms/step - accuracy: 0.6181 - loss: 1.0376 - val_accuracy: 0.6143 - val_loss: 1.0360\n",
      "Epoch 8/10\n",
      "\u001b[1m64/64\u001b[0m \u001b[32m━━━━━━━━━━━━━━━━━━━━\u001b[0m\u001b[37m\u001b[0m \u001b[1m30s\u001b[0m 467ms/step - accuracy: 0.6312 - loss: 0.9555 - val_accuracy: 0.6243 - val_loss: 1.0257\n",
      "Epoch 9/10\n",
      "\u001b[1m64/64\u001b[0m \u001b[32m━━━━━━━━━━━━━━━━━━━━\u001b[0m\u001b[37m\u001b[0m \u001b[1m30s\u001b[0m 469ms/step - accuracy: 0.6577 - loss: 0.8791 - val_accuracy: 0.6759 - val_loss: 0.9616\n",
      "Epoch 10/10\n",
      "\u001b[1m64/64\u001b[0m \u001b[32m━━━━━━━━━━━━━━━━━━━━\u001b[0m\u001b[37m\u001b[0m \u001b[1m31s\u001b[0m 486ms/step - accuracy: 0.6945 - loss: 0.8197 - val_accuracy: 0.6362 - val_loss: 1.0501\n"
     ]
    },
    {
     "data": {
      "text/plain": [
       "<keras.src.callbacks.history.History at 0x171904d66c0>"
      ]
     },
     "execution_count": 7,
     "metadata": {},
     "output_type": "execute_result"
    }
   ],
   "source": [
    "model = models.Sequential([\n",
    "    layers.Conv2D(32, (3, 3), activation='relu', input_shape=(img_size, img_size, 3)),\n",
    "    layers.MaxPooling2D(2, 2),\n",
    "    layers.Conv2D(64, (3, 3), activation='relu'),\n",
    "    layers.MaxPooling2D(2, 2),\n",
    "    layers.Flatten(),\n",
    "    layers.Dense(128, activation='relu'),\n",
    "    layers.Dense(train_gen.num_classes, activation='softmax')\n",
    "])\n",
    "\n",
    "model.compile(optimizer='adam', loss='categorical_crossentropy', metrics=['accuracy'])\n",
    "model.fit(train_gen, validation_data=val_gen, epochs=10)"
   ]
  },
  {
   "cell_type": "code",
   "execution_count": 8,
   "id": "78a7b42c",
   "metadata": {},
   "outputs": [
    {
     "name": "stdout",
     "output_type": "stream",
     "text": [
      "Found 2527 files belonging to 6 classes.\n"
     ]
    }
   ],
   "source": [
    "ml_dataset = tf.keras.preprocessing.image_dataset_from_directory(\n",
    "    dataset_path,\n",
    "    image_size=(img_size, img_size),\n",
    "    label_mode='int',\n",
    "    batch_size=None\n",
    ")\n",
    "\n",
    "X = []\n",
    "y = []\n",
    "for img, label in ml_dataset:\n",
    "    X.append(img.numpy())\n",
    "    y.append(label.numpy())\n",
    "\n",
    "X = np.array(X)\n",
    "y = np.array(y)\n",
    "\n",
    "# Flatten for ML models\n",
    "X_flat = X.reshape(X.shape[0], -1)"
   ]
  },
  {
   "cell_type": "code",
   "execution_count": 9,
   "id": "b60ca162",
   "metadata": {},
   "outputs": [
    {
     "name": "stdout",
     "output_type": "stream",
     "text": [
      "Balanced class distribution: [594 594 594 594 594 594]\n"
     ]
    }
   ],
   "source": [
    "X_balanced = []\n",
    "y_balanced = []\n",
    "\n",
    "unique_classes = np.unique(y)\n",
    "max_count = max([np.sum(y == cls) for cls in unique_classes])\n",
    "\n",
    "for cls in unique_classes:\n",
    "    cls_indices = np.where(y == cls)[0]\n",
    "    X_cls = X_flat[cls_indices]\n",
    "    y_cls = y[cls_indices]\n",
    "    \n",
    "    X_resampled, y_resampled = resample(\n",
    "        X_cls, y_cls,\n",
    "        replace=True,\n",
    "        n_samples=max_count,\n",
    "        random_state=42\n",
    "    )\n",
    "    \n",
    "    X_balanced.append(X_resampled)\n",
    "    y_balanced.append(y_resampled)\n",
    "\n",
    "X_bal = np.vstack(X_balanced)\n",
    "y_bal = np.hstack(y_balanced)\n",
    "\n",
    "print(\"Balanced class distribution:\", np.bincount(y_bal))"
   ]
  },
  {
   "cell_type": "code",
   "execution_count": 10,
   "id": "5b6423c4",
   "metadata": {},
   "outputs": [
    {
     "name": "stdout",
     "output_type": "stream",
     "text": [
      "SVM Classification Report:\n",
      "               precision    recall  f1-score   support\n",
      "\n",
      "           0       0.97      0.87      0.92       144\n",
      "           1       0.71      0.70      0.71       121\n",
      "           2       0.78      0.81      0.79       113\n",
      "           3       0.77      0.80      0.78        99\n",
      "           4       0.73      0.79      0.76       108\n",
      "           5       0.91      0.91      0.91       128\n",
      "\n",
      "    accuracy                           0.82       713\n",
      "   macro avg       0.81      0.81      0.81       713\n",
      "weighted avg       0.82      0.82      0.82       713\n",
      "\n",
      "KNN Classification Report:\n",
      "               precision    recall  f1-score   support\n",
      "\n",
      "           0       0.69      0.82      0.75       144\n",
      "           1       0.56      0.62      0.59       121\n",
      "           2       0.87      0.58      0.69       113\n",
      "           3       0.72      0.46      0.56        99\n",
      "           4       0.54      0.69      0.61       108\n",
      "           5       0.83      0.85      0.84       128\n",
      "\n",
      "    accuracy                           0.68       713\n",
      "   macro avg       0.70      0.67      0.67       713\n",
      "weighted avg       0.70      0.68      0.68       713\n",
      "\n"
     ]
    }
   ],
   "source": [
    "X_train, X_test, y_train, y_test = train_test_split(X_bal, y_bal, test_size=0.2, random_state=42)\n",
    "\n",
    "# SVM\n",
    "svm_model = SVC()\n",
    "svm_model.fit(X_train, y_train)\n",
    "print(\"SVM Classification Report:\\n\", classification_report(y_test, svm_model.predict(X_test)))\n",
    "\n",
    "# KNN\n",
    "knn_model = KNeighborsClassifier(n_neighbors=3)\n",
    "knn_model.fit(X_train, y_train)\n",
    "print(\"KNN Classification Report:\\n\", classification_report(y_test, knn_model.predict(X_test)))\n"
   ]
  }
 ],
 "metadata": {
  "kernelspec": {
   "display_name": "Python 3",
   "language": "python",
   "name": "python3"
  },
  "language_info": {
   "codemirror_mode": {
    "name": "ipython",
    "version": 3
   },
   "file_extension": ".py",
   "mimetype": "text/x-python",
   "name": "python",
   "nbconvert_exporter": "python",
   "pygments_lexer": "ipython3",
   "version": "3.12.1"
  }
 },
 "nbformat": 4,
 "nbformat_minor": 5
}
